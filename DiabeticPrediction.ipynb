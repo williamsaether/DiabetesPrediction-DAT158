{
 "cells": [
  {
   "cell_type": "code",
   "id": "ffb82d34-9752-40fa-a530-7b01aff08bdb",
   "metadata": {
    "scrolled": true,
    "ExecuteTime": {
     "end_time": "2024-09-17T18:56:12.577362Z",
     "start_time": "2024-09-17T18:56:12.366165Z"
    }
   },
   "source": [
    "import pandas as pd\n",
    "from sklearn.tree import DecisionTreeClassifier\n",
    "from sklearn.model_selection import train_test_split\n",
    "from sklearn.preprocessing import StandardScaler, OneHotEncoder\n",
    "from sklearn.compose import ColumnTransformer\n",
    "from sklearn.pipeline import Pipeline\n",
    "from sklearn.ensemble import RandomForestClassifier\n",
    "from sklearn.metrics import balanced_accuracy_score\n",
    "from sklearn.model_selection import GridSearchCV\n",
    "from sklearn.metrics import classification_report\n",
    "from imblearn.over_sampling import SMOTE\n",
    "from imblearn.pipeline import Pipeline as ImbPipeline\n",
    "from xgboost import XGBClassifier\n",
    "import joblib\n",
    "\n",
    "train_data = pd.read_csv('train.csv')\n",
    "test_data = pd.read_csv('test.csv')\n",
    "\n",
    "X = train_data.drop(columns=['Target'])  # Drop target column\n",
    "y = train_data['Target']  # Target column\n",
    "\n",
    "# X = X.head(10000)\n",
    "# y = y.head(10000)\n",
    "\n",
    "X_apply = test_data\n",
    "\n",
    "X_train, X_test, y_train, y_test = train_test_split(X, y, test_size=0.2, random_state=27)"
   ],
   "outputs": [],
   "execution_count": 217
  },
  {
   "metadata": {
    "ExecuteTime": {
     "end_time": "2024-09-17T19:01:57.199494Z",
     "start_time": "2024-09-17T19:01:57.191398Z"
    }
   },
   "cell_type": "code",
   "source": [
    "categorical_cols = ['Age','Sex','Education','Income'] # here we will use OneHot (convert to numeric data)\n",
    "numerical_cols = ['BMI','MentHlth','PhysHlth','GenHlth'] # here we will use scaling to give a better representation\n",
    "# the rest of the columns are binary\n",
    "\n",
    "preprocessor = ColumnTransformer(\n",
    "    transformers=[\n",
    "        ('num', StandardScaler(), numerical_cols),\n",
    "        ('cat', OneHotEncoder(), categorical_cols)\n",
    "    ])\n",
    "\n",
    "model = ImbPipeline([\n",
    "    ('preprocessor', preprocessor),\n",
    "    # ('classifier', RandomForestClassifier(\n",
    "    #     random_state=27, \n",
    "    #     class_weight='balanced', \n",
    "    #     criterion='entropy', \n",
    "    #     n_estimators=100,\n",
    "    #     max_depth=14,\n",
    "    #     min_samples_split=4,\n",
    "    #     min_samples_leaf=6,\n",
    "    # )),\n",
    "    ('classifier', XGBClassifier(\n",
    "        scale_pos_weight=len(y_train[y_train == 0]) / len(y_train[y_train == 1]), \n",
    "        random_state=27,\n",
    "        max_depth=10,\n",
    "        colsample_bytree=0.8,\n",
    "        gamma=0.1,\n",
    "        learning_rate=0.1,\n",
    "        min_child_weight=3,\n",
    "        n_estimators=100,\n",
    "        reg_alpha=0,\n",
    "        reg_lambda=100,\n",
    "        subsample=0.6,\n",
    "    ))\n",
    "])\n",
    "\n",
    "# param_grid = {\n",
    "#     'classifier__n_estimators': [50, 100, 200],\n",
    "#     'classifier__max_depth': [None, 10, 20, 30],\n",
    "#     'classifier__min_samples_split': [2, 5, 10],\n",
    "#     'classifier__min_samples_leaf': [1, 2, 4],\n",
    "# }\n",
    "\n",
    "# param_grid = {\n",
    "#     'classifier__n_estimators': [100, 200, 500],\n",
    "#     'classifier__max_depth': [3, 6, 10],\n",
    "#     'classifier__learning_rate': [0.01, 0.05, 0.1],\n",
    "#     'classifier__subsample': [0.6, 0.8, 1.0],\n",
    "#     'classifier__colsample_bytree': [0.6, 0.8, 1.0],\n",
    "#     'classifier__min_child_weight': [1, 3, 5],\n",
    "#     'classifier__gamma': [0, 0.1, 0.3],\n",
    "#     'classifier__reg_alpha': [0, 0.01, 0.1],\n",
    "#     'classifier__reg_lambda': [1, 10, 100]\n",
    "# }\n",
    "\n",
    "# grid_search = GridSearchCV(model, param_grid, cv=3, scoring='balanced_accuracy', n_jobs=-1, verbose=2)\n",
    "# grid_search.fit(X_train, y_train)\n",
    "# \n",
    "# print(\"Best parameters found: \", grid_search.best_params_)\n",
    "# print(\"Best balanced accuracy score: \", grid_search.best_score_)"
   ],
   "id": "d7dabcfba598befe",
   "outputs": [],
   "execution_count": 258
  },
  {
   "cell_type": "code",
   "id": "324e1991-fad6-42f1-8c01-e06e3b8ab939",
   "metadata": {
    "ExecuteTime": {
     "end_time": "2024-09-17T19:58:16.438617Z",
     "start_time": "2024-09-17T19:58:16.117309Z"
    }
   },
   "source": [
    "# model.fit(X_train,y_train)\n",
    "# \n",
    "# joblib.dump(model, 'diabeticPredictor-XGB.joblib')\n",
    "model = joblib.load('diabeticPredictor-XGB.joblib')\n",
    "\n",
    "predictions = model.predict(X_test)\n",
    "score = balanced_accuracy_score(y_test, predictions)\n",
    "\n",
    "print(score)\n",
    "# print(classification_report(y_test, predictions))\n",
    "\n",
    "threshold = 0.48\n",
    "\n",
    "y_pred_proba = model.predict_proba(X_apply)[:, 1]\n",
    "predictions = (y_pred_proba > threshold).astype(int)\n",
    "\n",
    "# # Print classification report (for your validation data)\n",
    "X_train_part, X_val, y_train_part, y_val = train_test_split(X_train, y_train, test_size=0.2, random_state=42)\n",
    "\n",
    "# Evaluate the model with the validation set\n",
    "y_pred_val_proba = model.predict_proba(X_val)[:, 1]\n",
    "val_predictions = (y_pred_val_proba > threshold).astype(int)\n",
    "val_score = balanced_accuracy_score(y_val, val_predictions)\n",
    "\n",
    "# submission_df = pd.DataFrame({\n",
    "#     'Id': X_apply['Id'],  # Assuming 'Id' is the name of the ID column in X_apply\n",
    "#     'Target': predictions\n",
    "# })\n",
    "# \n",
    "# # Save the predictions to a CSV file\n",
    "# submission_df.to_csv('submission-xgb_17-09-24.csv', index=False)\n",
    "\n",
    "# Output evaluation metrics for validation data\n",
    "print(f\"Balanced Accuracy Score on Validation: {val_score}\")\n",
    "print(classification_report(y_val, val_predictions))"
   ],
   "outputs": [
    {
     "name": "stdout",
     "output_type": "stream",
     "text": [
      "0.730360500881937\n",
      "Balanced Accuracy Score on Validation: 0.7495970049598162\n",
      "              precision    recall  f1-score   support\n",
      "\n",
      "           0       0.96      0.69      0.80     24435\n",
      "           1       0.30      0.81      0.43      3977\n",
      "\n",
      "    accuracy                           0.70     28412\n",
      "   macro avg       0.63      0.75      0.62     28412\n",
      "weighted avg       0.87      0.70      0.75     28412\n",
      "\n"
     ]
    }
   ],
   "execution_count": 269
  }
 ],
 "metadata": {
  "kernelspec": {
   "display_name": "Python 3 (ipykernel)",
   "language": "python",
   "name": "python3"
  },
  "language_info": {
   "codemirror_mode": {
    "name": "ipython",
    "version": 3
   },
   "file_extension": ".py",
   "mimetype": "text/x-python",
   "name": "python",
   "nbconvert_exporter": "python",
   "pygments_lexer": "ipython3",
   "version": "3.12.4"
  }
 },
 "nbformat": 4,
 "nbformat_minor": 5
}
