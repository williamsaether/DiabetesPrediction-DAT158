{
 "cells": [
  {
   "cell_type": "code",
   "id": "ffb82d34-9752-40fa-a530-7b01aff08bdb",
   "metadata": {
    "scrolled": true,
    "ExecuteTime": {
     "end_time": "2024-09-17T17:56:07.878921Z",
     "start_time": "2024-09-17T17:56:07.670011Z"
    }
   },
   "source": [
    "import pandas as pd\n",
    "from sklearn.tree import DecisionTreeClassifier\n",
    "from sklearn.model_selection import train_test_split\n",
    "from sklearn.preprocessing import StandardScaler, OneHotEncoder\n",
    "from sklearn.compose import ColumnTransformer\n",
    "from sklearn.pipeline import Pipeline\n",
    "from sklearn.ensemble import RandomForestClassifier\n",
    "from sklearn.metrics import balanced_accuracy_score\n",
    "from sklearn.model_selection import GridSearchCV\n",
    "from sklearn.metrics import classification_report\n",
    "from imblearn.over_sampling import SMOTE\n",
    "from imblearn.pipeline import Pipeline as ImbPipeline\n",
    "import joblib\n",
    "\n",
    "train_data = pd.read_csv('train.csv')\n",
    "test_data = pd.read_csv('test.csv')\n",
    "\n",
    "X = train_data.drop(columns=['Target'])  # Drop target column\n",
    "y = train_data['Target']  # Target column\n",
    "\n",
    "# X = X.head(10000)\n",
    "# y = y.head(10000)\n",
    "\n",
    "X_apply = test_data\n",
    "\n",
    "X_train, X_test, y_train, y_test = train_test_split(X, y, test_size=0.2, random_state=27)"
   ],
   "outputs": [],
   "execution_count": 40
  },
  {
   "metadata": {
    "ExecuteTime": {
     "end_time": "2024-09-17T17:58:59.735257Z",
     "start_time": "2024-09-17T17:58:59.727114Z"
    }
   },
   "cell_type": "code",
   "source": [
    "categorical_cols = ['Age','Sex','Education','Income'] # here we will use OneHot (convert to numeric data)\n",
    "numerical_cols = ['BMI','MentHlth','PhysHlth','GenHlth'] # here we will use scaling to give a better representation\n",
    "# the rest of the columns are binary\n",
    "\n",
    "preprocessor = ColumnTransformer(\n",
    "    transformers=[\n",
    "        ('num', StandardScaler(), numerical_cols),\n",
    "        ('cat', OneHotEncoder(), categorical_cols)\n",
    "    ])\n",
    "\n",
    "model = ImbPipeline([\n",
    "    ('preprocessor', preprocessor),\n",
    "    ('classifier', RandomForestClassifier(\n",
    "        random_state=27, \n",
    "        class_weight='balanced', \n",
    "        criterion='entropy', \n",
    "        n_estimators=100,\n",
    "        max_depth=14,\n",
    "        min_samples_split=4,\n",
    "        min_samples_leaf=6,\n",
    "    )),\n",
    "])\n",
    "\n",
    "# param_grid = {\n",
    "#     'classifier__n_estimators': [50, 100, 200],\n",
    "#     'classifier__max_depth': [None, 10, 20, 30],\n",
    "#     'classifier__min_samples_split': [2, 5, 10],\n",
    "#     'classifier__min_samples_leaf': [1, 2, 4],\n",
    "# }\n",
    "# \n",
    "# grid_search = GridSearchCV(model, param_grid, cv=3, scoring='balanced_accuracy', n_jobs=-1, verbose=2)\n",
    "# grid_search.fit(X_train, y_train)\n",
    "# \n",
    "# print(grid_search.best_params_)"
   ],
   "id": "d7dabcfba598befe",
   "outputs": [],
   "execution_count": 45
  },
  {
   "cell_type": "code",
   "id": "324e1991-fad6-42f1-8c01-e06e3b8ab939",
   "metadata": {
    "ExecuteTime": {
     "end_time": "2024-09-17T18:02:22.818847Z",
     "start_time": "2024-09-17T18:02:22.035822Z"
    }
   },
   "source": [
    "# model.fit(X_train,y_train)\n",
    "# \n",
    "# joblib.dump(model, 'diabeticPredictor.joblib')\n",
    "model = joblib.load('diabeticPredictor.joblib')\n",
    "\n",
    "predictions = model.predict(X_test)\n",
    "score = balanced_accuracy_score(y_test, predictions)\n",
    "\n",
    "# output = pd.DataFrame({'Id': X_apply['Id'], 'Target': predictions})\n",
    "# output.to_csv('submission.csv', index=False)\n",
    "\n",
    "\n",
    "print(score)\n",
    "# print(classification_report(y_test, predictions))\n",
    "\n",
    "y_pred_proba = model.predict_proba(X_test)[:, 1]\n",
    "threshold = 0.496\n",
    "predictions = (y_pred_proba > threshold).astype(int)\n",
    "# \n",
    "# \n",
    "# \n",
    "# # Print classification report (for your validation data)\n",
    "X_train_part, X_val, y_train_part, y_val = train_test_split(X_train, y_train, test_size=0.2, random_state=42)\n",
    "\n",
    "# Evaluate the model with the validation set\n",
    "y_pred_val_proba = model.predict_proba(X_val)[:, 1]\n",
    "val_predictions = (y_pred_val_proba > threshold).astype(int)\n",
    "val_score = balanced_accuracy_score(y_val, val_predictions)\n",
    "\n",
    "# Output evaluation metrics for validation data\n",
    "print(f\"Balanced Accuracy Score on Validation: {val_score}\")\n",
    "print(classification_report(y_val, val_predictions))"
   ],
   "outputs": [
    {
     "name": "stdout",
     "output_type": "stream",
     "text": [
      "0.7294286640195473\n",
      "Balanced Accuracy Score on Validation: 0.7523162368188394\n",
      "              precision    recall  f1-score   support\n",
      "\n",
      "           0       0.95      0.71      0.82     24435\n",
      "           1       0.31      0.79      0.45      3977\n",
      "\n",
      "    accuracy                           0.73     28412\n",
      "   macro avg       0.63      0.75      0.63     28412\n",
      "weighted avg       0.86      0.73      0.77     28412\n",
      "\n"
     ]
    }
   ],
   "execution_count": 67
  }
 ],
 "metadata": {
  "kernelspec": {
   "display_name": "Python 3 (ipykernel)",
   "language": "python",
   "name": "python3"
  },
  "language_info": {
   "codemirror_mode": {
    "name": "ipython",
    "version": 3
   },
   "file_extension": ".py",
   "mimetype": "text/x-python",
   "name": "python",
   "nbconvert_exporter": "python",
   "pygments_lexer": "ipython3",
   "version": "3.12.4"
  }
 },
 "nbformat": 4,
 "nbformat_minor": 5
}
